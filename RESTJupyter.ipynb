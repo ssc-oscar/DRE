{
 "cells": [
  {
   "cell_type": "markdown",
   "metadata": {},
   "source": [
    "# Example usage of REST API functions\n",
    "Below are some example usage functions for showCnt(content) and getValues that are available RESTful GET calls\n",
    "from worldofcode.org. \n",
    "**showCnt** displays related information about the sha passed to it, such as the files contained in a tree sha, the content of a blob sha, and the tree, parent commit, and author of a commit sha. \n",
    "**getValues** returns different mapping relationships of a given sha, such as the files associated with a commit (c2f), or the projects associated with a blob (b2P). \n",
    "\n",
    "*Please note: these functions only support SHA1 hashes. Functionality for other objects, such as authors, file names, and project URIs have not yet been implemented but will be soon!* \n",
    "\n",
    "Utilizing the `requests` and `json` libraries, we are able to make these GET calls from any server, local or remote, through a Jupyter Notebook"
   ]
  },
  {
   "cell_type": "code",
   "execution_count": 45,
   "metadata": {},
   "outputs": [],
   "source": [
    "import requests, json\n",
    "import re\n",
    "\n",
    "def showCnt (type, sha1):\n",
    "  url='http://worldofcode.org/api/lookup?command=showCnt' + '&type='+ type + '&sha1=' + sha1\n",
    "  r = requests.get(url)\n",
    "  res = json.loads(r.content)['stdout']\n",
    "  if type == 'commit':\n",
    "    res = res.split(';')\n",
    "    print('Tree:'+res[1]+'\\nParent:'+res[2]+'\\nAuthor:'+res[3]+'\\n')\n",
    "\n",
    "  elif type == 'blob':\n",
    "    if not res:\n",
    "        print(\"Blob content can't be displayed\")\n",
    "    else:\n",
    "        print(res)\n",
    "\n",
    "  elif type == 'tree':\n",
    "    res = re.split('\\n|;', res)\n",
    "    print(\"No. of files in this tree: \" + str(len(res[1:])/3))\n",
    "    for i in range(0,len(res)-3,3):\n",
    "        print('Mode:'+res[i]+'  Blob sha:'+res[i+1]+'  Filename:'+res[i+2])\n",
    "    \n",
    "  else:\n",
    "    print(\"Please specify either tree, commit, or blob.\")\n",
    "\n",
    "\n",
    "def getValues (map_type, sha1):\n",
    "  url='http://worldofcode.org/api/lookup?command=getValues' + '&type='+ map_type + '&sha1=' + sha1\n",
    "  r = requests.get(url)\n",
    "  return (json.loads(r.content)['stdout']).split(';')[1:]"
   ]
  },
  {
   "cell_type": "markdown",
   "metadata": {},
   "source": [
    "Using these 2 predefined fuctions, different calls can be made to display various information:"
   ]
  },
  {
   "cell_type": "code",
   "execution_count": 43,
   "metadata": {},
   "outputs": [
    {
     "name": "stdout",
     "output_type": "stream",
     "text": [
      "Tree:464ac950171f673d1e45e2134ac9a52eca422132\n",
      "Parent:dddff9a89ddd7098a1625cafd3c9d1aa87474cc7\n",
      "Author:Warner Losh <imp@FreeBSD.org>\n",
      "\n"
     ]
    }
   ],
   "source": [
    "showCnt(\"commit\", \"009d7b6da9c4419fe96ffd1fffb2ee61fa61532a\")"
   ]
  },
  {
   "cell_type": "code",
   "execution_count": 40,
   "metadata": {},
   "outputs": [
    {
     "name": "stdout",
     "output_type": "stream",
     "text": [
      "# $FreeBSD$\n",
      "#\t@(#)COPYRIGHT\t8.2 (Berkeley) 3/21/94\n",
      "\n",
      "The compilation of software known as FreeBSD is distributed under the\n",
      "following terms:\n",
      "\n",
      "Copyright (C) 1992-2004 The FreeBSD Project. All rights reserved.\n",
      "\n",
      "Redistribution and use in source and binary forms, with or without\n",
      "modification, are permitted provided that the following conditions\n",
      "are met:\n",
      "1. Redistributions of source code must retain the above copyright\n",
      "   notice, this list of conditions and the following disclaimer.\n",
      "2. Redistributions in binary form must reproduce the above copyright\n",
      "   notice, this list of conditions and the following disclaimer in the\n",
      "   documentation and/or other materials provided with the distribution.\n",
      "\n",
      "THIS SOFTWARE IS PROVIDED BY AUTHOR AND CONTRIBUTORS ``AS IS'' AND\n",
      "ANY EXPRESS OR IMPLIED WARRANTIES, INCLUDING, BUT NOT LIMITED TO, THE\n",
      "IMPLIED WARRANTIES OF MERCHANTABILITY AND FITNESS FOR A PARTICULAR PURPOSE\n",
      "ARE DISCLAIMED.  IN NO EVENT SHALL AUTHOR OR CONTRIBUTORS BE LIABLE\n",
      "FOR ANY DIRECT, INDIRECT, INCIDENTAL, SPECIAL, EXEMPLARY, OR CONSEQUENTIAL\n",
      "DAMAGES (INCLUDING, BUT NOT LIMITED TO, PROCUREMENT OF SUBSTITUTE GOODS\n",
      "OR SERVICES; LOSS OF USE, DATA, OR PROFITS; OR BUSINESS INTERRUPTION)\n",
      "HOWEVER CAUSED AND ON ANY THEORY OF LIABILITY, WHETHER IN CONTRACT, STRICT\n",
      "LIABILITY, OR TORT (INCLUDING NEGLIGENCE OR OTHERWISE) ARISING IN ANY WAY\n",
      "OUT OF THE USE OF THIS SOFTWARE, EVEN IF ADVISED OF THE POSSIBILITY OF\n",
      "SUCH DAMAGE.\n",
      "\n",
      "The 4.4BSD and 4.4BSD-Lite software is distributed under the following\n",
      "terms:\n",
      "\n",
      "All of the documentation and software included in the 4.4BSD and 4.4BSD-Lite\n",
      "Releases is copyrighted by The Regents of the University of California.\n",
      "\n",
      "Copyright 1979, 1980, 1983, 1986, 1988, 1989, 1991, 1992, 1993, 1994\n",
      "\tThe Regents of the University of California.  All rights reserved.\n",
      "\n",
      "Redistribution and use in source and binary forms, with or without\n",
      "modification, are permitted provided that the following conditions\n",
      "are met:\n",
      "1. Redistributions of source code must retain the above copyright\n",
      "   notice, this list of conditions and the following disclaimer.\n",
      "2. Redistributions in binary form must reproduce the above copyright\n",
      "   notice, this list of conditions and the following disclaimer in the\n",
      "   documentation and/or other materials provided with the distribution.\n",
      "3. All advertising materials mentioning features or use of this software\n",
      "   must display the following acknowledgement:\n",
      "This product includes software developed by the University of\n",
      "California, Berkeley and its contributors.\n",
      "4. Neither the name of the University nor the names of its contributors\n",
      "   may be used to endorse or promote products derived from this software\n",
      "   without specific prior written permission.\n",
      "\n",
      "THIS SOFTWARE IS PROVIDED BY THE REGENTS AND CONTRIBUTORS ``AS IS'' AND\n",
      "ANY EXPRESS OR IMPLIED WARRANTIES, INCLUDING, BUT NOT LIMITED TO, THE\n",
      "IMPLIED WARRANTIES OF MERCHANTABILITY AND FITNESS FOR A PARTICULAR PURPOSE\n",
      "ARE DISCLAIMED.  IN NO EVENT SHALL THE REGENTS OR CONTRIBUTORS BE LIABLE\n",
      "FOR ANY DIRECT, INDIRECT, INCIDENTAL, SPECIAL, EXEMPLARY, OR CONSEQUENTIAL\n",
      "DAMAGES (INCLUDING, BUT NOT LIMITED TO, PROCUREMENT OF SUBSTITUTE GOODS\n",
      "OR SERVICES; LOSS OF USE, DATA, OR PROFITS; OR BUSINESS INTERRUPTION)\n",
      "HOWEVER CAUSED AND ON ANY THEORY OF LIABILITY, WHETHER IN CONTRACT, STRICT\n",
      "LIABILITY, OR TORT (INCLUDING NEGLIGENCE OR OTHERWISE) ARISING IN ANY WAY\n",
      "OUT OF THE USE OF THIS SOFTWARE, EVEN IF ADVISED OF THE POSSIBILITY OF\n",
      "SUCH DAMAGE.\n",
      "\n",
      "The Institute of Electrical and Electronics Engineers and the American\n",
      "National Standards Committee X3, on Information Processing Systems have\n",
      "given us permission to reprint portions of their documentation.\n",
      "\n",
      "In the following statement, the phrase ``this text'' refers to portions\n",
      "of the system documentation.\n",
      "\n",
      "Portions of this text are reprinted and reproduced in electronic form in\n",
      "the second BSD Networking Software Release, from IEEE Std 1003.1-1988, IEEE\n",
      "Standard Portable Operating System Interface for Computer Environments\n",
      "(POSIX), copyright C 1988 by the Institute of Electrical and Electronics\n",
      "Engineers, Inc.  In the event of any discrepancy between these versions\n",
      "and the original IEEE Standard, the original IEEE Standard is the referee\n",
      "document.\n",
      "\n",
      "In the following statement, the phrase ``This material'' refers to portions\n",
      "of the system documentation.\n",
      "\n",
      "This material is reproduced with permission from American National\n",
      "Standards Committee X3, on Information Processing Systems.  Computer and\n",
      "Business Equipment Manufacturers Association (CBEMA), 311 First St., NW,\n",
      "Suite 500, Washington, DC 20001-2178.  The developmental work of\n",
      "Programming Language C was completed by the X3J11 Technical Committee.\n",
      "\n",
      "The views and conclusions contained in the software and documentation are\n",
      "those of the authors and should not be interpreted as representing official\n",
      "policies, either expressed or implied, of the Regents of the University\n",
      "of California.\n",
      "\n",
      "\n",
      "NOTE: The copyright of UC Berkeley's Berkeley Software Distribution (\"BSD\")\n",
      "source has been updated.  The copyright addendum may be found at\n",
      "ftp://ftp.cs.berkeley.edu/pub/4bsd/README.Impt.License.Change and is\n",
      "included below.\n",
      "\n",
      "July 22, 1999\n",
      "\n",
      "To All Licensees, Distributors of Any Version of BSD:\n",
      "\n",
      "As you know, certain of the Berkeley Software Distribution (\"BSD\") source\n",
      "code files require that further distributions of products containing all or\n",
      "portions of the software, acknowledge within their advertising materials\n",
      "that such products contain software developed by UC Berkeley and its\n",
      "contributors.\n",
      "\n",
      "Specifically, the provision reads:\n",
      "\n",
      "\"     * 3. All advertising materials mentioning features or use of this software\n",
      "      *    must display the following acknowledgement:\n",
      "      *    This product includes software developed by the University of\n",
      "      *    California, Berkeley and its contributors.\"\n",
      "\n",
      "Effective immediately, licensees and distributors are no longer required to\n",
      "include the acknowledgement within advertising materials.  Accordingly, the\n",
      "foregoing paragraph of those BSD Unix files containing it is hereby deleted\n",
      "in its entirety.\n",
      "\n",
      "William Hoskins\n",
      "Director, Office of Technology Licensing\n",
      "University of California, Berkeley\n",
      "\n",
      "\n"
     ]
    }
   ],
   "source": [
    "showCnt(\"blob\", 'a8fe822f075fa3d159a203adfa40c3f59d6dd999')"
   ]
  },
  {
   "cell_type": "code",
   "execution_count": 39,
   "metadata": {},
   "outputs": [
    {
     "name": "stdout",
     "output_type": "stream",
     "text": [
      "No. of files in this tree: 31\n",
      "Mode:100644  Blob sha:a8fe822f075fa3d159a203adfa40c3f59d6dd999  Filename:COPYRIGHT\n",
      "Mode:100644  Blob sha:fd302b41386a29c3d19110a394b3f377d8c8a55a  Filename:Caldera-license.pdf\n",
      "Mode:100644  Blob sha:ea1a840100ad18f66056e081616c643455d25316  Filename:LICENSE\n",
      "Mode:100644  Blob sha:80ef82af7457a1a003c279afa4044598ddcedb8c  Filename:MAINTAINERS\n",
      "Mode:100644  Blob sha:51bd582efda09dab0dc1cab14f08f21503e83f45  Filename:Makefile\n",
      "Mode:100644  Blob sha:381a0f6f3f0f642bb62f5cf8e6d62806debba71e  Filename:Makefile.inc1\n",
      "Mode:100644  Blob sha:70402b9973a93910b0f3d59bcb1c8e7e8209112e  Filename:README\n",
      "Mode:100644  Blob sha:7b179b8659417b13b0a3d5c5f184ed29f907b67d  Filename:README.md\n",
      "Mode:100644  Blob sha:9f896c36b9511942bc13da08b44680b7e47c7bf4  Filename:UPDATING\n",
      "Mode:100644  Blob sha:6b04d250c1d465e1ee8831c30f58ac22b7f8800d  Filename:UPDATING.64BTT\n",
      "Mode:040000  Blob sha:def5f8c3e89849bc0a872eb9b7f995c65f242595  Filename:bin\n",
      "Mode:040000  Blob sha:86ffdacb2fe6d9d7d696899cded3be6ad7f0239b  Filename:contrib\n",
      "Mode:040000  Blob sha:62b53894df57b2807a968ed5fbcc3a3486a5a530  Filename:crypto\n",
      "Mode:040000  Blob sha:b93a81afc52dec9bb3b3db360086956fe7964625  Filename:etc\n",
      "Mode:040000  Blob sha:fe1009213159a9d7a4f6b96ed89261d6ba0198cf  Filename:games\n",
      "Mode:040000  Blob sha:3e2445464a0f3a67e90f32c8f14d4bdb99183e82  Filename:gnu\n",
      "Mode:040000  Blob sha:f244be0f773ee26e90b2b960992b0e6b5cdadc30  Filename:include\n",
      "Mode:100755  Blob sha:50c1f89f2eec261afab3ad119fbcbe6f870da3d1  Filename:installworld_newk\n",
      "Mode:100755  Blob sha:4eb4c479da46aa7adc797b2ca8099d2254ab2092  Filename:installworld_oldk\n",
      "Mode:040000  Blob sha:264dbfa934b2bc98d928236dda47dbb76cd64c17  Filename:kerberos5\n",
      "Mode:040000  Blob sha:3911f859145397f574ee1b911488ff22f9e77279  Filename:lib\n",
      "Mode:040000  Blob sha:5b86ebfc9e3a67dc9382c6a13a681bf908cd9cd4  Filename:libexec\n",
      "Mode:040000  Blob sha:f2d9e468f4f9341dd40c6bc1d9acb9a3eacb0d88  Filename:release\n",
      "Mode:040000  Blob sha:44bb956d6ad5fa3e7e6f637f55b9661d9c04b9f9  Filename:rescue\n",
      "Mode:040000  Blob sha:dc61df959848322278227bb86119393c0774882f  Filename:sbin\n",
      "Mode:040000  Blob sha:260162f34f513b37853dd52b8a8d65d502beaceb  Filename:secure\n",
      "Mode:040000  Blob sha:f1249a9c492f1eb2998327ff0f1997bf9a584e3a  Filename:share\n",
      "Mode:040000  Blob sha:4fabdfe61717f833bf69b81d68d587852918a58d  Filename:sys\n",
      "Mode:040000  Blob sha:1bb65c454a710e36eba9ecddff3224992651947d  Filename:tools\n",
      "Mode:040000  Blob sha:a5a24429a7622b2fc72b312d87c4281fa220f831  Filename:usr.bin\n",
      "Mode:040000  Blob sha:6618176f9f37fa3e62f2efd953c07096f8ecf6db  Filename:usr.sbin\n"
     ]
    }
   ],
   "source": [
    "showCnt(\"tree\", '464ac950171f673d1e45e2134ac9a52eca422132')"
   ]
  },
  {
   "cell_type": "markdown",
   "metadata": {},
   "source": [
    "The list of available mappings is as follows: \n",
    "```\n",
    "* a2b \t* a2c \t* a2f\t* a2ft\t\t\n",
    "* a2p \t* a2trp0 \n",
    "* b2a\t* b2c \t* b2f \t* b2ob\t* b2tk\n",
    "* c2b \t* c2cc\t* c2f \t* c2h\t* c2pc\n",
    "* c2p \t* c2P\t* c2ta \t* c2td\n",
    "* f2a\t* f2b \t* f2c \t\t\n",
    "* p2a \t* p2c \t* P2c\n",
    "* td2c\t* td2f\n",
    "```\n",
    "The items that the letters reference: \n",
    "```\n",
    "a = Author, b = Blob, c = Commit, cc = Child Commit\n",
    "f = File, h = Head Commit, ob = Parent Blob, p = Project\n",
    "pc = Parent Commit, P = Forked/Root Project (see Note below)\n",
    "ta = Time Author, td = Tdiff\n",
    "tk = Tokens (ctags), trp = Torvalds Path\n",
    "```\n",
    "Note: c2P returns the most central repository for this commit, and does not include repos that forked off of this commit. \n",
    "      P2c returns ALL commits associated with this repo, including commits made to forks of this particular repo.\n",
    "\n",
    "Some examples are listed below:"
   ]
  },
  {
   "cell_type": "code",
   "execution_count": 46,
   "metadata": {},
   "outputs": [
    {
     "data": {
      "text/plain": [
       "[u'9808d70aed03290c648b983ea404446779eff501\\n']"
      ]
     },
     "execution_count": 46,
     "metadata": {},
     "output_type": "execute_result"
    }
   ],
   "source": [
    "getValue('c2b', 'd7cad81093cd805110291f84d64d385557d0ffba')"
   ]
  },
  {
   "cell_type": "code",
   "execution_count": 47,
   "metadata": {},
   "outputs": [
    {
     "data": {
      "text/plain": [
       "[u'lib/lz4.c\\n']"
      ]
     },
     "execution_count": 47,
     "metadata": {},
     "output_type": "execute_result"
    }
   ],
   "source": [
    "getValue('c2f', 'd7cad81093cd805110291f84d64d385557d0ffba')"
   ]
  },
  {
   "cell_type": "markdown",
   "metadata": {},
   "source": [
    "Just as showCnt's output has been formatted for easier viewing, getValues can also be formatted. As opposed to viewing a list of items in an array,"
   ]
  },
  {
   "cell_type": "code",
   "execution_count": 48,
   "metadata": {},
   "outputs": [
    {
     "data": {
      "text/plain": [
       "[u'0-wiz-0_libuv',\n",
       " u'06094051_librdkafka',\n",
       " u'1010101012101_borg',\n",
       " u'3370sohail_gecko-dev',\n",
       " u'540KJ_root',\n",
       " u'6180_python-lz4',\n",
       " u'Alexhuszagh_c-blosc',\n",
       " u'Bambooie_gdsfmt',\n",
       " u'cactus74_fst',\n",
       " u'darkskygit_simple_kv',\n",
       " u'draede_cx',\n",
       " u'dudw_libportable',\n",
       " u'fangq_matzip',\n",
       " u'girdharshubham_gokafka',\n",
       " u'git.bioconductor.org_packages_gdsfmt',\n",
       " u'jmoiron_golz4',\n",
       " u'karubabu_quickbms',\n",
       " u'liliilli_Dy',\n",
       " u'lmtwga_lzbench',\n",
       " u'marcelorl_graphql-real-time-example',\n",
       " u'pharaoh1_7-Zip-zstd',\n",
       " u'scalarwaves_zbox',\n",
       " u'silnrsi_grcompiler',\n",
       " u'tafia_fstlib',\n",
       " u'ushiiwaka_ps2-packer',\n",
       " u'windreamer_py-lz4framed\\n']"
      ]
     },
     "execution_count": 48,
     "metadata": {},
     "output_type": "execute_result"
    }
   ],
   "source": [
    "getValue('b2P', '9808d70aed03290c648b983ea404446779eff501')"
   ]
  },
  {
   "cell_type": "markdown",
   "metadata": {},
   "source": [
    "the output can be formatted as so:"
   ]
  },
  {
   "cell_type": "code",
   "execution_count": 52,
   "metadata": {},
   "outputs": [
    {
     "name": "stdout",
     "output_type": "stream",
     "text": [
      "0-wiz-0_libuv\n",
      "\n",
      "06094051_librdkafka\n",
      "\n",
      "1010101012101_borg\n",
      "\n",
      "3370sohail_gecko-dev\n",
      "\n",
      "540KJ_root\n",
      "\n",
      "6180_python-lz4\n",
      "\n",
      "Alexhuszagh_c-blosc\n",
      "\n",
      "Bambooie_gdsfmt\n",
      "\n",
      "cactus74_fst\n",
      "\n",
      "darkskygit_simple_kv\n",
      "\n",
      "draede_cx\n",
      "\n",
      "dudw_libportable\n",
      "\n",
      "fangq_matzip\n",
      "\n",
      "girdharshubham_gokafka\n",
      "\n",
      "git.bioconductor.org_packages_gdsfmt\n",
      "\n",
      "jmoiron_golz4\n",
      "\n",
      "karubabu_quickbms\n",
      "\n",
      "liliilli_Dy\n",
      "\n",
      "lmtwga_lzbench\n",
      "\n",
      "marcelorl_graphql-real-time-example\n",
      "\n",
      "pharaoh1_7-Zip-zstd\n",
      "\n",
      "scalarwaves_zbox\n",
      "\n",
      "silnrsi_grcompiler\n",
      "\n",
      "tafia_fstlib\n",
      "\n",
      "ushiiwaka_ps2-packer\n",
      "\n",
      "windreamer_py-lz4framed\n",
      "\n",
      "\n"
     ]
    }
   ],
   "source": [
    "v = getValue('b2P', '9808d70aed03290c648b983ea404446779eff501')\n",
    "for p in v: print (p+'\\n')"
   ]
  },
  {
   "cell_type": "code",
   "execution_count": null,
   "metadata": {},
   "outputs": [],
   "source": []
  }
 ],
 "metadata": {
  "kernelspec": {
   "display_name": "Python 2",
   "language": "python",
   "name": "python2"
  },
  "language_info": {
   "codemirror_mode": {
    "name": "ipython",
    "version": 2
   },
   "file_extension": ".py",
   "mimetype": "text/x-python",
   "name": "python",
   "nbconvert_exporter": "python",
   "pygments_lexer": "ipython2",
   "version": "2.7.12"
  }
 },
 "nbformat": 4,
 "nbformat_minor": 2
}
